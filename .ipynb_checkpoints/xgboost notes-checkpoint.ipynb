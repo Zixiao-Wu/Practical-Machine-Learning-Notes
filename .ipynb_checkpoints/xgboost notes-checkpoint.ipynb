{
 "cells": [
  {
   "cell_type": "code",
   "execution_count": 1,
   "id": "814dac85",
   "metadata": {},
   "outputs": [],
   "source": [
    "from sklearn.ensemble import GradientBoostingClassifier\n",
    "from sklearn.datasets import load_iris\n",
    "from sklearn.model_selection import train_test_split\n",
    "from sklearn.metrics import accuracy_score"
   ]
  },
  {
   "cell_type": "code",
   "execution_count": 2,
   "id": "d18567e3",
   "metadata": {},
   "outputs": [],
   "source": [
    "iris = load_iris()\n",
    "\n",
    "X = iris.data\n",
    "y = iris.target"
   ]
  },
  {
   "cell_type": "code",
   "execution_count": 13,
   "id": "b0bf990b",
   "metadata": {},
   "outputs": [
    {
     "data": {
      "text/plain": [
       "150"
      ]
     },
     "execution_count": 13,
     "metadata": {},
     "output_type": "execute_result"
    }
   ],
   "source": [
    "(a, b) = X.shape\n",
    "a"
   ]
  },
  {
   "cell_type": "code",
   "execution_count": 5,
   "id": "f1330078",
   "metadata": {},
   "outputs": [],
   "source": [
    "X_train, X_test, y_train, y_test = train_test_split(X, y, test_size=0.2, random_state=1)\n"
   ]
  },
  {
   "cell_type": "code",
   "execution_count": 6,
   "id": "799a519f",
   "metadata": {},
   "outputs": [],
   "source": [
    "model = GradientBoostingClassifier(n_estimators=100, learning_rate= 0.2, max_depth=3, min_samples_leaf=1, \n",
    "                                   subsample= 0.7, random_state=1)"
   ]
  },
  {
   "cell_type": "code",
   "execution_count": 8,
   "id": "719acbc2",
   "metadata": {},
   "outputs": [
    {
     "name": "stdout",
     "output_type": "stream",
     "text": [
      "Accuracy: 0.97\n"
     ]
    }
   ],
   "source": [
    "\n",
    "model.fit(X_train, y_train)\n",
    "\n",
    "y_pred = model.predict(X_test)\n",
    "\n",
    "accuracy = accuracy_score(y_test, y_pred)\n",
    "print(\"Accuracy: {:.2f}\".format(accuracy))"
   ]
  },
  {
   "cell_type": "code",
   "execution_count": 9,
   "id": "b8090802",
   "metadata": {},
   "outputs": [],
   "source": [
    "import numpy as np"
   ]
  },
  {
   "cell_type": "markdown",
   "id": "a79e7d00",
   "metadata": {},
   "source": [
    "# 手搓一个"
   ]
  },
  {
   "cell_type": "code",
   "execution_count": 46,
   "id": "9fd127ca",
   "metadata": {},
   "outputs": [],
   "source": [
    "from sklearn.tree import DecisionTreeRegressor\n",
    "\n",
    "class GBDT:\n",
    "    def __init__(self, n_estimators = 100, learning_rate = 0.3, max_depth = 3):\n",
    "        self.n_estimators = n_estimators\n",
    "        self.learning_rate = learning_rate\n",
    "        self.max_depth = max_depth\n",
    "        self.estimators = []\n",
    "        \n",
    "    def sigmoid(self, z):\n",
    "        return 1.0 / (1.0+np.exp(-z))\n",
    "    \n",
    "    def gradient_loss(self, y_true, y_pred):\n",
    "        return y_true - self.sigmoid(y_pred)\n",
    "    \n",
    "    def fit(self, X, y):\n",
    "        n_sample, n_feature = X.shape\n",
    "        y_pred = np.zeros(n_sample, dtype = float)\n",
    "        \n",
    "        for i in range(self.n_estimators):\n",
    "            residual = self.gradient_loss(y, y_pred)\n",
    "            #print(y, y, residual)\n",
    "            \n",
    "            tree = DecisionTreeRegressor(max_depth=self.max_depth)\n",
    "            tree.fit(X, residual)\n",
    "            \n",
    "            y_pred_tree = tree.predict(X)\n",
    "            \n",
    "            y_pred += self.learning_rate * y_pred_tree\n",
    "            \n",
    "            self.estimators.append(tree)\n",
    "            \n",
    "    def predict_proba(self, X):\n",
    "        n_samples = X.shape[0]\n",
    "        y_pred = np.zeros(n_samples)\n",
    "        \n",
    "        for tree in self.estimators:\n",
    "            y_pred_tree = tree.predict(X)\n",
    "            y_pred += self.learning_rate * y_pred_tree\n",
    "            return self.sigmoid(y_pred)\n",
    "    \n",
    "    def predict(self, X, threshold = 0.5):\n",
    "        y_proba = self.predict_proba(X)\n",
    "        y_pred = np.where(y_proba>= threshold, 1, 0)\n",
    "        \n",
    "        return y_pred"
   ]
  },
  {
   "cell_type": "code",
   "execution_count": 47,
   "id": "3cd6a753",
   "metadata": {},
   "outputs": [],
   "source": [
    "gbclassfy = GBDT(n_estimators=100, learning_rate=0.2, max_depth=4)\n",
    "\n",
    "#from sklearn.preprocessing import LabelEncoder\n",
    "\n",
    "gbclassfy.fit(X_train, y_train)"
   ]
  },
  {
   "cell_type": "code",
   "execution_count": 48,
   "id": "0601dd35",
   "metadata": {},
   "outputs": [
    {
     "data": {
      "text/plain": [
       "0.8"
      ]
     },
     "execution_count": 48,
     "metadata": {},
     "output_type": "execute_result"
    }
   ],
   "source": [
    "y_pred = gbclassfy.predict(X_test)\n",
    "\n",
    "accuracy = np.mean(y_pred == y_test)\n",
    "accuracy"
   ]
  },
  {
   "cell_type": "markdown",
   "id": "9e09b864",
   "metadata": {},
   "source": [
    "# XGBOOST を学びましょう!"
   ]
  },
  {
   "cell_type": "code",
   "execution_count": 49,
   "id": "41d03932",
   "metadata": {},
   "outputs": [
    {
     "name": "stdout",
     "output_type": "stream",
     "text": [
      "Collecting xgboost\n",
      "  Downloading xgboost-1.7.6-py3-none-macosx_10_15_x86_64.macosx_11_0_x86_64.macosx_12_0_x86_64.whl (1.8 MB)\n",
      "\u001b[2K     \u001b[90m━━━━━━━━━━━━━━━━━━━━━━━━━━━━━━━━━━━━━━━━\u001b[0m \u001b[32m1.8/1.8 MB\u001b[0m \u001b[31m16.4 MB/s\u001b[0m eta \u001b[36m0:00:00\u001b[0ma \u001b[36m0:00:01\u001b[0m\n",
      "\u001b[?25hRequirement already satisfied: scipy in /Users/wu/opt/anaconda3/lib/python3.9/site-packages (from xgboost) (1.9.1)\n",
      "Requirement already satisfied: numpy in /Users/wu/opt/anaconda3/lib/python3.9/site-packages (from xgboost) (1.21.5)\n",
      "Installing collected packages: xgboost\n",
      "Successfully installed xgboost-1.7.6\n",
      "Note: you may need to restart the kernel to use updated packages.\n"
     ]
    }
   ],
   "source": [
    "pip install xgboost"
   ]
  },
  {
   "cell_type": "code",
   "execution_count": 2,
   "id": "b38a9009",
   "metadata": {},
   "outputs": [],
   "source": [
    "import xgboost"
   ]
  },
  {
   "cell_type": "code",
   "execution_count": 6,
   "id": "edb47b48",
   "metadata": {},
   "outputs": [
    {
     "data": {
      "text/plain": [
       "<contextlib._GeneratorContextManager at 0x7f93d13ff2e0>"
      ]
     },
     "execution_count": 6,
     "metadata": {},
     "output_type": "execute_result"
    }
   ],
   "source": [
    "xgboost.config_context()"
   ]
  },
  {
   "cell_type": "code",
   "execution_count": null,
   "id": "bb3c546e",
   "metadata": {},
   "outputs": [],
   "source": []
  },
  {
   "cell_type": "code",
   "execution_count": null,
   "id": "c2896819",
   "metadata": {},
   "outputs": [],
   "source": []
  }
 ],
 "metadata": {
  "kernelspec": {
   "display_name": "Python 3 (ipykernel)",
   "language": "python",
   "name": "python3"
  },
  "language_info": {
   "codemirror_mode": {
    "name": "ipython",
    "version": 3
   },
   "file_extension": ".py",
   "mimetype": "text/x-python",
   "name": "python",
   "nbconvert_exporter": "python",
   "pygments_lexer": "ipython3",
   "version": "3.9.13"
  }
 },
 "nbformat": 4,
 "nbformat_minor": 5
}
